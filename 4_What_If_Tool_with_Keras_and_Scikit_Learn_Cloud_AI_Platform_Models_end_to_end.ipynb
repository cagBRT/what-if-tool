{
  "nbformat": 4,
  "nbformat_minor": 0,
  "metadata": {
    "colab": {
      "name": "4 What-If Tool with Keras and Scikit Learn Cloud AI Platform Models - end-to-end",
      "provenance": [],
      "collapsed_sections": [],
      "include_colab_link": true
    },
    "kernelspec": {
      "display_name": "Python 3",
      "language": "python",
      "name": "python3"
    },
    "language_info": {
      "codemirror_mode": {
        "name": "ipython",
        "version": 3
      },
      "file_extension": ".py",
      "mimetype": "text/x-python",
      "name": "python",
      "nbconvert_exporter": "python",
      "pygments_lexer": "ipython3",
      "version": "3.7.4"
    },
    "accelerator": "TPU"
  },
  "cells": [
    {
      "cell_type": "markdown",
      "metadata": {
        "id": "view-in-github",
        "colab_type": "text"
      },
      "source": [
        "<a href=\"https://colab.research.google.com/github/cagBRT/what-if-tool/blob/main/4_What_If_Tool_with_Keras_and_Scikit_Learn_Cloud_AI_Platform_Models_end_to_end.ipynb\" target=\"_parent\"><img src=\"https://colab.research.google.com/assets/colab-badge.svg\" alt=\"Open In Colab\"/></a>"
      ]
    },
    {
      "cell_type": "markdown",
      "metadata": {
        "id": "XvyjT_LNX4dl"
      },
      "source": [
        "modify for using colab only\n",
        "must use tpus"
      ]
    },
    {
      "cell_type": "markdown",
      "metadata": {
        "id": "AirZHYMaHoa2"
      },
      "source": [
        "# Comparing Keras and Scikit models deployed on Cloud AI Platform with the What-if Tool\n",
        "\n",
        "In this notebook we'll use the UCI [wine quality dataset](https://archive.ics.uci.edu/ml/datasets/wine+quality) to train both tf.keras and Scikit learn regression models that will predict the quality rating of a wine given 11 numerical data points about the wine. You'll learn how to:\n",
        "* Build, train, and then deploy tf.keras and Scikit Learn models to Cloud AI Platform\n",
        "* Use the What-if Tool to compare two different models deployed on CAIP\n",
        "\n",
        "You will need a Google Cloud Platform account and project to run this notebook. Instructions for creating a project can be found [here](https://cloud.google.com/resource-manager/docs/creating-managing-projects)."
      ]
    },
    {
      "cell_type": "markdown",
      "metadata": {
        "id": "pOSv5xidIeDX"
      },
      "source": [
        "## Installing dependencies"
      ]
    },
    {
      "cell_type": "code",
      "metadata": {
        "id": "If5EM5XYWpJ-"
      },
      "source": [
        "# If running in colab then pip install, otherwise no need.\n",
        "try:\n",
        "  import google.colab\n",
        "  !pip install --upgrade tensorflow>=2.0.0 witwidget \n",
        "except Exception:\n",
        "  pass"
      ],
      "execution_count": 7,
      "outputs": []
    },
    {
      "cell_type": "code",
      "metadata": {
        "id": "9RQvm3w_QqFK"
      },
      "source": [
        "import sys\n",
        "python_version = sys.version_info[0]"
      ],
      "execution_count": 8,
      "outputs": []
    },
    {
      "cell_type": "code",
      "metadata": {
        "id": "-W6pVKiR8M1y"
      },
      "source": [
        "# If you're running on Colab, you'll need to install the What-if Tool package and authenticate\n",
        "def pip_install(module):\n",
        "    if python_version == '2':\n",
        "        !pip install {module} --quiet\n",
        "    else:\n",
        "        !pip3 install {module} --quiet\n",
        "\n",
        "try:\n",
        "    import google.colab\n",
        "    IN_COLAB = True\n",
        "except:\n",
        "    IN_COLAB = False\n",
        "\n",
        "if IN_COLAB:\n",
        "    pip_install('witwidget')\n",
        "\n",
        "    from google.colab import auth\n",
        "    auth.authenticate_user()"
      ],
      "execution_count": 9,
      "outputs": []
    },
    {
      "cell_type": "code",
      "metadata": {
        "id": "tgZtpOds7RBP",
        "colab": {
          "base_uri": "https://localhost:8080/"
        },
        "outputId": "8f7e61d1-251d-464a-8c12-8ba53bca4412"
      },
      "source": [
        "import pandas as pd\n",
        "import numpy as np\n",
        "import tensorflow as tf\n",
        "import witwidget\n",
        "import os\n",
        "import pickle\n",
        "\n",
        "from tensorflow.keras.layers import Dense\n",
        "from tensorflow.keras.models import Sequential\n",
        "\n",
        "from sklearn.utils import shuffle\n",
        "from sklearn.linear_model import LinearRegression\n",
        "from witwidget.notebook.visualization import WitWidget, WitConfigBuilder\n",
        "\n",
        "# This has been tested on TF 1.14\n",
        "print(tf.__version__)"
      ],
      "execution_count": 10,
      "outputs": [
        {
          "output_type": "stream",
          "text": [
            "2.5.0\n"
          ],
          "name": "stdout"
        }
      ]
    },
    {
      "cell_type": "markdown",
      "metadata": {
        "id": "LaWQ_7-DIg0C"
      },
      "source": [
        "## Download and process data\n",
        "\n",
        "In this section we'll:\n",
        "* Download the wine quality data directly from UCI Machine Learning\n",
        "* Read it into a Pandas dataframe and preview it\n",
        "* Split the data and labels into train and test sets"
      ]
    },
    {
      "cell_type": "code",
      "metadata": {
        "id": "3cynTjLY8LiC",
        "colab": {
          "base_uri": "https://localhost:8080/"
        },
        "outputId": "74fe883c-8f55-46b8-914d-00adc114bd8f"
      },
      "source": [
        "!wget 'http://archive.ics.uci.edu/ml/machine-learning-databases/wine-quality/winequality-white.csv'"
      ],
      "execution_count": 11,
      "outputs": [
        {
          "output_type": "stream",
          "text": [
            "--2021-07-28 23:06:38--  http://archive.ics.uci.edu/ml/machine-learning-databases/wine-quality/winequality-white.csv\n",
            "Resolving archive.ics.uci.edu (archive.ics.uci.edu)... 128.195.10.252\n",
            "Connecting to archive.ics.uci.edu (archive.ics.uci.edu)|128.195.10.252|:80... connected.\n",
            "HTTP request sent, awaiting response... 200 OK\n",
            "Length: 264426 (258K) [application/x-httpd-php]\n",
            "Saving to: ‘winequality-white.csv’\n",
            "\n",
            "winequality-white.c 100%[===================>] 258.23K  1.16MB/s    in 0.2s    \n",
            "\n",
            "2021-07-28 23:06:39 (1.16 MB/s) - ‘winequality-white.csv’ saved [264426/264426]\n",
            "\n"
          ],
          "name": "stdout"
        }
      ]
    },
    {
      "cell_type": "code",
      "metadata": {
        "id": "tWVHSjqZ8e2S"
      },
      "source": [
        "data = pd.read_csv('winequality-white.csv', index_col=False, delimiter=';')\n",
        "data = shuffle(data, random_state=4)"
      ],
      "execution_count": 12,
      "outputs": []
    },
    {
      "cell_type": "code",
      "metadata": {
        "id": "YfDFNvbHJk3k",
        "colab": {
          "base_uri": "https://localhost:8080/",
          "height": 232
        },
        "outputId": "959f7646-a76c-46bc-fd21-7d4be497180d"
      },
      "source": [
        "data.head()"
      ],
      "execution_count": 13,
      "outputs": [
        {
          "output_type": "execute_result",
          "data": {
            "text/html": [
              "<div>\n",
              "<style scoped>\n",
              "    .dataframe tbody tr th:only-of-type {\n",
              "        vertical-align: middle;\n",
              "    }\n",
              "\n",
              "    .dataframe tbody tr th {\n",
              "        vertical-align: top;\n",
              "    }\n",
              "\n",
              "    .dataframe thead th {\n",
              "        text-align: right;\n",
              "    }\n",
              "</style>\n",
              "<table border=\"1\" class=\"dataframe\">\n",
              "  <thead>\n",
              "    <tr style=\"text-align: right;\">\n",
              "      <th></th>\n",
              "      <th>fixed acidity</th>\n",
              "      <th>volatile acidity</th>\n",
              "      <th>citric acid</th>\n",
              "      <th>residual sugar</th>\n",
              "      <th>chlorides</th>\n",
              "      <th>free sulfur dioxide</th>\n",
              "      <th>total sulfur dioxide</th>\n",
              "      <th>density</th>\n",
              "      <th>pH</th>\n",
              "      <th>sulphates</th>\n",
              "      <th>alcohol</th>\n",
              "      <th>quality</th>\n",
              "    </tr>\n",
              "  </thead>\n",
              "  <tbody>\n",
              "    <tr>\n",
              "      <th>3545</th>\n",
              "      <td>7.3</td>\n",
              "      <td>0.20</td>\n",
              "      <td>0.29</td>\n",
              "      <td>19.50</td>\n",
              "      <td>0.039</td>\n",
              "      <td>69.0</td>\n",
              "      <td>237.0</td>\n",
              "      <td>1.00037</td>\n",
              "      <td>3.10</td>\n",
              "      <td>0.48</td>\n",
              "      <td>9.2</td>\n",
              "      <td>6</td>\n",
              "    </tr>\n",
              "    <tr>\n",
              "      <th>2460</th>\n",
              "      <td>6.6</td>\n",
              "      <td>0.33</td>\n",
              "      <td>0.24</td>\n",
              "      <td>16.05</td>\n",
              "      <td>0.045</td>\n",
              "      <td>31.0</td>\n",
              "      <td>147.0</td>\n",
              "      <td>0.99822</td>\n",
              "      <td>3.08</td>\n",
              "      <td>0.52</td>\n",
              "      <td>9.2</td>\n",
              "      <td>5</td>\n",
              "    </tr>\n",
              "    <tr>\n",
              "      <th>3855</th>\n",
              "      <td>5.9</td>\n",
              "      <td>0.18</td>\n",
              "      <td>0.29</td>\n",
              "      <td>4.60</td>\n",
              "      <td>0.032</td>\n",
              "      <td>68.0</td>\n",
              "      <td>137.0</td>\n",
              "      <td>0.99159</td>\n",
              "      <td>3.21</td>\n",
              "      <td>0.38</td>\n",
              "      <td>11.3</td>\n",
              "      <td>6</td>\n",
              "    </tr>\n",
              "    <tr>\n",
              "      <th>3427</th>\n",
              "      <td>5.8</td>\n",
              "      <td>0.24</td>\n",
              "      <td>0.26</td>\n",
              "      <td>10.05</td>\n",
              "      <td>0.039</td>\n",
              "      <td>63.0</td>\n",
              "      <td>162.0</td>\n",
              "      <td>0.99375</td>\n",
              "      <td>3.33</td>\n",
              "      <td>0.50</td>\n",
              "      <td>11.2</td>\n",
              "      <td>6</td>\n",
              "    </tr>\n",
              "    <tr>\n",
              "      <th>2033</th>\n",
              "      <td>7.2</td>\n",
              "      <td>0.23</td>\n",
              "      <td>0.33</td>\n",
              "      <td>12.70</td>\n",
              "      <td>0.049</td>\n",
              "      <td>50.0</td>\n",
              "      <td>183.0</td>\n",
              "      <td>0.99870</td>\n",
              "      <td>3.41</td>\n",
              "      <td>0.40</td>\n",
              "      <td>9.8</td>\n",
              "      <td>5</td>\n",
              "    </tr>\n",
              "  </tbody>\n",
              "</table>\n",
              "</div>"
            ],
            "text/plain": [
              "      fixed acidity  volatile acidity  citric acid  ...  sulphates  alcohol  quality\n",
              "3545            7.3              0.20         0.29  ...       0.48      9.2        6\n",
              "2460            6.6              0.33         0.24  ...       0.52      9.2        5\n",
              "3855            5.9              0.18         0.29  ...       0.38     11.3        6\n",
              "3427            5.8              0.24         0.26  ...       0.50     11.2        6\n",
              "2033            7.2              0.23         0.33  ...       0.40      9.8        5\n",
              "\n",
              "[5 rows x 12 columns]"
            ]
          },
          "metadata": {
            "tags": []
          },
          "execution_count": 13
        }
      ]
    },
    {
      "cell_type": "code",
      "metadata": {
        "id": "uny6h1Tk9LDf"
      },
      "source": [
        "labels = data['quality']"
      ],
      "execution_count": 14,
      "outputs": []
    },
    {
      "cell_type": "code",
      "metadata": {
        "id": "nmwemTTHO-7B",
        "colab": {
          "base_uri": "https://localhost:8080/"
        },
        "outputId": "a463de52-1cc5-45fb-cd70-86acf587806a"
      },
      "source": [
        "print(labels.value_counts())"
      ],
      "execution_count": 15,
      "outputs": [
        {
          "output_type": "stream",
          "text": [
            "6    2198\n",
            "5    1457\n",
            "7     880\n",
            "8     175\n",
            "4     163\n",
            "3      20\n",
            "9       5\n",
            "Name: quality, dtype: int64\n"
          ],
          "name": "stdout"
        }
      ]
    },
    {
      "cell_type": "code",
      "metadata": {
        "id": "m22ZzLWkWdlk"
      },
      "source": [
        "data = data.drop(columns=['quality'])"
      ],
      "execution_count": 16,
      "outputs": []
    },
    {
      "cell_type": "code",
      "metadata": {
        "id": "GT3KiRibLiUM"
      },
      "source": [
        "train_size = int(len(data) * 0.8)\n",
        "train_data = data[:train_size]\n",
        "train_labels = labels[:train_size]\n",
        "\n",
        "test_data = data[train_size:]\n",
        "test_labels = labels[train_size:]"
      ],
      "execution_count": 17,
      "outputs": []
    },
    {
      "cell_type": "code",
      "metadata": {
        "id": "cZzev0UCXmz5",
        "colab": {
          "base_uri": "https://localhost:8080/",
          "height": 216
        },
        "outputId": "d237fd37-00d7-49b3-f462-cc5cfd6ac96a"
      },
      "source": [
        "train_data.head()"
      ],
      "execution_count": 18,
      "outputs": [
        {
          "output_type": "execute_result",
          "data": {
            "text/html": [
              "<div>\n",
              "<style scoped>\n",
              "    .dataframe tbody tr th:only-of-type {\n",
              "        vertical-align: middle;\n",
              "    }\n",
              "\n",
              "    .dataframe tbody tr th {\n",
              "        vertical-align: top;\n",
              "    }\n",
              "\n",
              "    .dataframe thead th {\n",
              "        text-align: right;\n",
              "    }\n",
              "</style>\n",
              "<table border=\"1\" class=\"dataframe\">\n",
              "  <thead>\n",
              "    <tr style=\"text-align: right;\">\n",
              "      <th></th>\n",
              "      <th>fixed acidity</th>\n",
              "      <th>volatile acidity</th>\n",
              "      <th>citric acid</th>\n",
              "      <th>residual sugar</th>\n",
              "      <th>chlorides</th>\n",
              "      <th>free sulfur dioxide</th>\n",
              "      <th>total sulfur dioxide</th>\n",
              "      <th>density</th>\n",
              "      <th>pH</th>\n",
              "      <th>sulphates</th>\n",
              "      <th>alcohol</th>\n",
              "    </tr>\n",
              "  </thead>\n",
              "  <tbody>\n",
              "    <tr>\n",
              "      <th>3545</th>\n",
              "      <td>7.3</td>\n",
              "      <td>0.20</td>\n",
              "      <td>0.29</td>\n",
              "      <td>19.50</td>\n",
              "      <td>0.039</td>\n",
              "      <td>69.0</td>\n",
              "      <td>237.0</td>\n",
              "      <td>1.00037</td>\n",
              "      <td>3.10</td>\n",
              "      <td>0.48</td>\n",
              "      <td>9.2</td>\n",
              "    </tr>\n",
              "    <tr>\n",
              "      <th>2460</th>\n",
              "      <td>6.6</td>\n",
              "      <td>0.33</td>\n",
              "      <td>0.24</td>\n",
              "      <td>16.05</td>\n",
              "      <td>0.045</td>\n",
              "      <td>31.0</td>\n",
              "      <td>147.0</td>\n",
              "      <td>0.99822</td>\n",
              "      <td>3.08</td>\n",
              "      <td>0.52</td>\n",
              "      <td>9.2</td>\n",
              "    </tr>\n",
              "    <tr>\n",
              "      <th>3855</th>\n",
              "      <td>5.9</td>\n",
              "      <td>0.18</td>\n",
              "      <td>0.29</td>\n",
              "      <td>4.60</td>\n",
              "      <td>0.032</td>\n",
              "      <td>68.0</td>\n",
              "      <td>137.0</td>\n",
              "      <td>0.99159</td>\n",
              "      <td>3.21</td>\n",
              "      <td>0.38</td>\n",
              "      <td>11.3</td>\n",
              "    </tr>\n",
              "    <tr>\n",
              "      <th>3427</th>\n",
              "      <td>5.8</td>\n",
              "      <td>0.24</td>\n",
              "      <td>0.26</td>\n",
              "      <td>10.05</td>\n",
              "      <td>0.039</td>\n",
              "      <td>63.0</td>\n",
              "      <td>162.0</td>\n",
              "      <td>0.99375</td>\n",
              "      <td>3.33</td>\n",
              "      <td>0.50</td>\n",
              "      <td>11.2</td>\n",
              "    </tr>\n",
              "    <tr>\n",
              "      <th>2033</th>\n",
              "      <td>7.2</td>\n",
              "      <td>0.23</td>\n",
              "      <td>0.33</td>\n",
              "      <td>12.70</td>\n",
              "      <td>0.049</td>\n",
              "      <td>50.0</td>\n",
              "      <td>183.0</td>\n",
              "      <td>0.99870</td>\n",
              "      <td>3.41</td>\n",
              "      <td>0.40</td>\n",
              "      <td>9.8</td>\n",
              "    </tr>\n",
              "  </tbody>\n",
              "</table>\n",
              "</div>"
            ],
            "text/plain": [
              "      fixed acidity  volatile acidity  citric acid  ...    pH  sulphates  alcohol\n",
              "3545            7.3              0.20         0.29  ...  3.10       0.48      9.2\n",
              "2460            6.6              0.33         0.24  ...  3.08       0.52      9.2\n",
              "3855            5.9              0.18         0.29  ...  3.21       0.38     11.3\n",
              "3427            5.8              0.24         0.26  ...  3.33       0.50     11.2\n",
              "2033            7.2              0.23         0.33  ...  3.41       0.40      9.8\n",
              "\n",
              "[5 rows x 11 columns]"
            ]
          },
          "metadata": {
            "tags": []
          },
          "execution_count": 18
        }
      ]
    },
    {
      "cell_type": "markdown",
      "metadata": {
        "id": "XAOsNcBcIj9L"
      },
      "source": [
        "## Train tf.keras model\n",
        "\n",
        "In this section we'll:\n",
        "\n",
        "* Build a regression model using tf.keras to predict a wine's quality score\n",
        "* Train the model\n",
        "* Add a layer to the model to prepare it for serving"
      ]
    },
    {
      "cell_type": "code",
      "metadata": {
        "id": "p64TNRFJ9TOP",
        "colab": {
          "base_uri": "https://localhost:8080/"
        },
        "outputId": "51f43fd1-0b1c-441e-9c50-aff529c16580"
      },
      "source": [
        "# This is the size of the array we'll be feeding into our model for each wine example\n",
        "input_size = len(train_data.iloc[0])\n",
        "print(input_size)"
      ],
      "execution_count": 19,
      "outputs": [
        {
          "output_type": "stream",
          "text": [
            "11\n"
          ],
          "name": "stdout"
        }
      ]
    },
    {
      "cell_type": "code",
      "metadata": {
        "id": "rsNQebpr-aB1"
      },
      "source": [
        "model = Sequential()\n",
        "model.add(Dense(200, input_shape=(input_size,), activation='relu'))\n",
        "model.add(Dense(50, activation='relu'))\n",
        "model.add(Dense(25, activation='relu'))\n",
        "model.add(Dense(1))\n",
        "\n",
        "model.compile(loss='mean_squared_error', optimizer='adam')"
      ],
      "execution_count": 20,
      "outputs": []
    },
    {
      "cell_type": "code",
      "metadata": {
        "id": "zqHhJTwCgbwH",
        "colab": {
          "base_uri": "https://localhost:8080/"
        },
        "outputId": "32e7af0d-9036-41e5-ecdd-75531a5692e1"
      },
      "source": [
        "model.summary()"
      ],
      "execution_count": 21,
      "outputs": [
        {
          "output_type": "stream",
          "text": [
            "Model: \"sequential\"\n",
            "_________________________________________________________________\n",
            "Layer (type)                 Output Shape              Param #   \n",
            "=================================================================\n",
            "dense (Dense)                (None, 200)               2400      \n",
            "_________________________________________________________________\n",
            "dense_1 (Dense)              (None, 50)                10050     \n",
            "_________________________________________________________________\n",
            "dense_2 (Dense)              (None, 25)                1275      \n",
            "_________________________________________________________________\n",
            "dense_3 (Dense)              (None, 1)                 26        \n",
            "=================================================================\n",
            "Total params: 13,751\n",
            "Trainable params: 13,751\n",
            "Non-trainable params: 0\n",
            "_________________________________________________________________\n"
          ],
          "name": "stdout"
        }
      ]
    },
    {
      "cell_type": "code",
      "metadata": {
        "id": "D10kjJh1-dqN",
        "colab": {
          "base_uri": "https://localhost:8080/"
        },
        "outputId": "4d972621-a63a-4c96-de6b-e47d9ac5b9eb"
      },
      "source": [
        "model.fit(train_data.values,train_labels.values, epochs=4, batch_size=32, validation_split=0.1)"
      ],
      "execution_count": 22,
      "outputs": [
        {
          "output_type": "stream",
          "text": [
            "Epoch 1/4\n",
            "111/111 [==============================] - 1s 5ms/step - loss: 1.9201 - val_loss: 0.8386\n",
            "Epoch 2/4\n",
            "111/111 [==============================] - 1s 5ms/step - loss: 0.7882 - val_loss: 0.8541\n",
            "Epoch 3/4\n",
            "111/111 [==============================] - 0s 4ms/step - loss: 0.8383 - val_loss: 0.8159\n",
            "Epoch 4/4\n",
            "111/111 [==============================] - 0s 4ms/step - loss: 0.7045 - val_loss: 1.0029\n"
          ],
          "name": "stdout"
        },
        {
          "output_type": "execute_result",
          "data": {
            "text/plain": [
              "<tensorflow.python.keras.callbacks.History at 0x7f7ef851ecd0>"
            ]
          },
          "metadata": {
            "tags": []
          },
          "execution_count": 22
        }
      ]
    },
    {
      "cell_type": "markdown",
      "metadata": {
        "id": "BxWHjEUTk9KX"
      },
      "source": [
        "## Deploy keras model to Cloud AI Platform\n",
        "\n",
        "In this section we'll:\n",
        "* Set up some global variables for our GCP project\n",
        "* Add a serving layer to our model so we can deploy it on Cloud AI Platform\n",
        "* Run the deploy command to deploy our model\n",
        "* Generate a test prediction on our deployed model"
      ]
    },
    {
      "cell_type": "code",
      "metadata": {
        "id": "89xSGhDgOoez"
      },
      "source": [
        "# Update these to your own GCP project + model names\n",
        "GCP_PROJECT = 'your_gcp_project'\n",
        "KERAS_MODEL_BUCKET = 'gs://your_storage_bucket'\n",
        "KERAS_VERSION_NAME = 'v1'"
      ],
      "execution_count": 23,
      "outputs": []
    },
    {
      "cell_type": "code",
      "metadata": {
        "colab": {
          "base_uri": "https://localhost:8080/"
        },
        "id": "a7EpojWRXFKz",
        "outputId": "269c5876-7857-4329-d4ab-cea74f2cced9"
      },
      "source": [
        "tf.config.experimental_connect_to_host('grpc://' + os.environ['COLAB_TPU_ADDR'])\n",
        "resolver = tf.distribute.cluster_resolver.TPUClusterResolver('grpc://' + os.environ['COLAB_TPU_ADDR'])\n",
        "tf.tpu.experimental.initialize_tpu_system(resolver)\n",
        "strategy = tf.distribute.experimental.TPUStrategy(resolver) "
      ],
      "execution_count": 24,
      "outputs": [
        {
          "output_type": "stream",
          "text": [
            "WARNING:tensorflow:TPU system grpc://10.53.192.122:8470 has already been initialized. Reinitializing the TPU can cause previously created variables on TPU to be lost.\n"
          ],
          "name": "stdout"
        },
        {
          "output_type": "stream",
          "text": [
            "WARNING:tensorflow:TPU system grpc://10.53.192.122:8470 has already been initialized. Reinitializing the TPU can cause previously created variables on TPU to be lost.\n"
          ],
          "name": "stderr"
        },
        {
          "output_type": "stream",
          "text": [
            "INFO:tensorflow:Initializing the TPU system: grpc://10.53.192.122:8470\n"
          ],
          "name": "stdout"
        },
        {
          "output_type": "stream",
          "text": [
            "INFO:tensorflow:Initializing the TPU system: grpc://10.53.192.122:8470\n"
          ],
          "name": "stderr"
        },
        {
          "output_type": "stream",
          "text": [
            "INFO:tensorflow:Clearing out eager caches\n"
          ],
          "name": "stdout"
        },
        {
          "output_type": "stream",
          "text": [
            "INFO:tensorflow:Clearing out eager caches\n"
          ],
          "name": "stderr"
        },
        {
          "output_type": "stream",
          "text": [
            "INFO:tensorflow:Finished initializing TPU system.\n"
          ],
          "name": "stdout"
        },
        {
          "output_type": "stream",
          "text": [
            "INFO:tensorflow:Finished initializing TPU system.\n",
            "WARNING:absl:`tf.distribute.experimental.TPUStrategy` is deprecated, please use  the non experimental symbol `tf.distribute.TPUStrategy` instead.\n"
          ],
          "name": "stderr"
        },
        {
          "output_type": "stream",
          "text": [
            "INFO:tensorflow:Found TPU system:\n"
          ],
          "name": "stdout"
        },
        {
          "output_type": "stream",
          "text": [
            "INFO:tensorflow:Found TPU system:\n"
          ],
          "name": "stderr"
        },
        {
          "output_type": "stream",
          "text": [
            "INFO:tensorflow:*** Num TPU Cores: 8\n"
          ],
          "name": "stdout"
        },
        {
          "output_type": "stream",
          "text": [
            "INFO:tensorflow:*** Num TPU Cores: 8\n"
          ],
          "name": "stderr"
        },
        {
          "output_type": "stream",
          "text": [
            "INFO:tensorflow:*** Num TPU Workers: 1\n"
          ],
          "name": "stdout"
        },
        {
          "output_type": "stream",
          "text": [
            "INFO:tensorflow:*** Num TPU Workers: 1\n"
          ],
          "name": "stderr"
        },
        {
          "output_type": "stream",
          "text": [
            "INFO:tensorflow:*** Num TPU Cores Per Worker: 8\n"
          ],
          "name": "stdout"
        },
        {
          "output_type": "stream",
          "text": [
            "INFO:tensorflow:*** Num TPU Cores Per Worker: 8\n"
          ],
          "name": "stderr"
        },
        {
          "output_type": "stream",
          "text": [
            "INFO:tensorflow:*** Available Device: _DeviceAttributes(/job:localhost/replica:0/task:0/device:CPU:0, CPU, 0, 0)\n"
          ],
          "name": "stdout"
        },
        {
          "output_type": "stream",
          "text": [
            "INFO:tensorflow:*** Available Device: _DeviceAttributes(/job:localhost/replica:0/task:0/device:CPU:0, CPU, 0, 0)\n"
          ],
          "name": "stderr"
        },
        {
          "output_type": "stream",
          "text": [
            "INFO:tensorflow:*** Available Device: _DeviceAttributes(/job:worker/replica:0/task:0/device:CPU:0, CPU, 0, 0)\n"
          ],
          "name": "stdout"
        },
        {
          "output_type": "stream",
          "text": [
            "INFO:tensorflow:*** Available Device: _DeviceAttributes(/job:worker/replica:0/task:0/device:CPU:0, CPU, 0, 0)\n"
          ],
          "name": "stderr"
        },
        {
          "output_type": "stream",
          "text": [
            "INFO:tensorflow:*** Available Device: _DeviceAttributes(/job:worker/replica:0/task:0/device:TPU:0, TPU, 0, 0)\n"
          ],
          "name": "stdout"
        },
        {
          "output_type": "stream",
          "text": [
            "INFO:tensorflow:*** Available Device: _DeviceAttributes(/job:worker/replica:0/task:0/device:TPU:0, TPU, 0, 0)\n"
          ],
          "name": "stderr"
        },
        {
          "output_type": "stream",
          "text": [
            "INFO:tensorflow:*** Available Device: _DeviceAttributes(/job:worker/replica:0/task:0/device:TPU:1, TPU, 0, 0)\n"
          ],
          "name": "stdout"
        },
        {
          "output_type": "stream",
          "text": [
            "INFO:tensorflow:*** Available Device: _DeviceAttributes(/job:worker/replica:0/task:0/device:TPU:1, TPU, 0, 0)\n"
          ],
          "name": "stderr"
        },
        {
          "output_type": "stream",
          "text": [
            "INFO:tensorflow:*** Available Device: _DeviceAttributes(/job:worker/replica:0/task:0/device:TPU:2, TPU, 0, 0)\n"
          ],
          "name": "stdout"
        },
        {
          "output_type": "stream",
          "text": [
            "INFO:tensorflow:*** Available Device: _DeviceAttributes(/job:worker/replica:0/task:0/device:TPU:2, TPU, 0, 0)\n"
          ],
          "name": "stderr"
        },
        {
          "output_type": "stream",
          "text": [
            "INFO:tensorflow:*** Available Device: _DeviceAttributes(/job:worker/replica:0/task:0/device:TPU:3, TPU, 0, 0)\n"
          ],
          "name": "stdout"
        },
        {
          "output_type": "stream",
          "text": [
            "INFO:tensorflow:*** Available Device: _DeviceAttributes(/job:worker/replica:0/task:0/device:TPU:3, TPU, 0, 0)\n"
          ],
          "name": "stderr"
        },
        {
          "output_type": "stream",
          "text": [
            "INFO:tensorflow:*** Available Device: _DeviceAttributes(/job:worker/replica:0/task:0/device:TPU:4, TPU, 0, 0)\n"
          ],
          "name": "stdout"
        },
        {
          "output_type": "stream",
          "text": [
            "INFO:tensorflow:*** Available Device: _DeviceAttributes(/job:worker/replica:0/task:0/device:TPU:4, TPU, 0, 0)\n"
          ],
          "name": "stderr"
        },
        {
          "output_type": "stream",
          "text": [
            "INFO:tensorflow:*** Available Device: _DeviceAttributes(/job:worker/replica:0/task:0/device:TPU:5, TPU, 0, 0)\n"
          ],
          "name": "stdout"
        },
        {
          "output_type": "stream",
          "text": [
            "INFO:tensorflow:*** Available Device: _DeviceAttributes(/job:worker/replica:0/task:0/device:TPU:5, TPU, 0, 0)\n"
          ],
          "name": "stderr"
        },
        {
          "output_type": "stream",
          "text": [
            "INFO:tensorflow:*** Available Device: _DeviceAttributes(/job:worker/replica:0/task:0/device:TPU:6, TPU, 0, 0)\n"
          ],
          "name": "stdout"
        },
        {
          "output_type": "stream",
          "text": [
            "INFO:tensorflow:*** Available Device: _DeviceAttributes(/job:worker/replica:0/task:0/device:TPU:6, TPU, 0, 0)\n"
          ],
          "name": "stderr"
        },
        {
          "output_type": "stream",
          "text": [
            "INFO:tensorflow:*** Available Device: _DeviceAttributes(/job:worker/replica:0/task:0/device:TPU:7, TPU, 0, 0)\n"
          ],
          "name": "stdout"
        },
        {
          "output_type": "stream",
          "text": [
            "INFO:tensorflow:*** Available Device: _DeviceAttributes(/job:worker/replica:0/task:0/device:TPU:7, TPU, 0, 0)\n"
          ],
          "name": "stderr"
        },
        {
          "output_type": "stream",
          "text": [
            "INFO:tensorflow:*** Available Device: _DeviceAttributes(/job:worker/replica:0/task:0/device:TPU_SYSTEM:0, TPU_SYSTEM, 0, 0)\n"
          ],
          "name": "stdout"
        },
        {
          "output_type": "stream",
          "text": [
            "INFO:tensorflow:*** Available Device: _DeviceAttributes(/job:worker/replica:0/task:0/device:TPU_SYSTEM:0, TPU_SYSTEM, 0, 0)\n"
          ],
          "name": "stderr"
        },
        {
          "output_type": "stream",
          "text": [
            "INFO:tensorflow:*** Available Device: _DeviceAttributes(/job:worker/replica:0/task:0/device:XLA_CPU:0, XLA_CPU, 0, 0)\n"
          ],
          "name": "stdout"
        },
        {
          "output_type": "stream",
          "text": [
            "INFO:tensorflow:*** Available Device: _DeviceAttributes(/job:worker/replica:0/task:0/device:XLA_CPU:0, XLA_CPU, 0, 0)\n"
          ],
          "name": "stderr"
        }
      ]
    },
    {
      "cell_type": "code",
      "metadata": {
        "id": "M5LY_q-lw1ur",
        "colab": {
          "base_uri": "https://localhost:8080/",
          "height": 223
        },
        "outputId": "15e9b570-87f5-4393-a2c0-2d4a2106554c"
      },
      "source": [
        "# Add the serving input layer below in order to serve our model on AI Platform\n",
        "class ServingInput(tf.keras.layers.Layer):\n",
        "  # the important detail in this boilerplate code is \"trainable=False\"\n",
        "  def __init__(self, name, dtype, batch_input_shape=None):\n",
        "    super(ServingInput, self).__init__(trainable=False, name=name, dtype=dtype, batch_input_shape=batch_input_shape)\n",
        "  def get_config(self):\n",
        "    return {'batch_input_shape': self._batch_input_shape, 'dtype': self.dtype, 'name': self.name }\n",
        "\n",
        "restored_model = model\n",
        "\n",
        "serving_model = tf.keras.Sequential()\n",
        "serving_model.add(ServingInput('serving', tf.float32, (None, input_size)))\n",
        "serving_model.add(restored_model)\n",
        "tf.contrib.saved_model.save_keras_model(serving_model, os.path.join(KERAS_MODEL_BUCKET, 'keras_export'))  # export the model to your GCS bucket\n",
        "export_path = KERAS_MODEL_BUCKET + '/keras_export'"
      ],
      "execution_count": 25,
      "outputs": [
        {
          "output_type": "error",
          "ename": "AttributeError",
          "evalue": "ignored",
          "traceback": [
            "\u001b[0;31m---------------------------------------------------------------------------\u001b[0m",
            "\u001b[0;31mAttributeError\u001b[0m                            Traceback (most recent call last)",
            "\u001b[0;32m<ipython-input-25-90cdf1dc09f9>\u001b[0m in \u001b[0;36m<module>\u001b[0;34m()\u001b[0m\n\u001b[1;32m     12\u001b[0m \u001b[0mserving_model\u001b[0m\u001b[0;34m.\u001b[0m\u001b[0madd\u001b[0m\u001b[0;34m(\u001b[0m\u001b[0mServingInput\u001b[0m\u001b[0;34m(\u001b[0m\u001b[0;34m'serving'\u001b[0m\u001b[0;34m,\u001b[0m \u001b[0mtf\u001b[0m\u001b[0;34m.\u001b[0m\u001b[0mfloat32\u001b[0m\u001b[0;34m,\u001b[0m \u001b[0;34m(\u001b[0m\u001b[0;32mNone\u001b[0m\u001b[0;34m,\u001b[0m \u001b[0minput_size\u001b[0m\u001b[0;34m)\u001b[0m\u001b[0;34m)\u001b[0m\u001b[0;34m)\u001b[0m\u001b[0;34m\u001b[0m\u001b[0;34m\u001b[0m\u001b[0m\n\u001b[1;32m     13\u001b[0m \u001b[0mserving_model\u001b[0m\u001b[0;34m.\u001b[0m\u001b[0madd\u001b[0m\u001b[0;34m(\u001b[0m\u001b[0mrestored_model\u001b[0m\u001b[0;34m)\u001b[0m\u001b[0;34m\u001b[0m\u001b[0;34m\u001b[0m\u001b[0m\n\u001b[0;32m---> 14\u001b[0;31m \u001b[0mtf\u001b[0m\u001b[0;34m.\u001b[0m\u001b[0mcontrib\u001b[0m\u001b[0;34m.\u001b[0m\u001b[0msaved_model\u001b[0m\u001b[0;34m.\u001b[0m\u001b[0msave_keras_model\u001b[0m\u001b[0;34m(\u001b[0m\u001b[0mserving_model\u001b[0m\u001b[0;34m,\u001b[0m \u001b[0mos\u001b[0m\u001b[0;34m.\u001b[0m\u001b[0mpath\u001b[0m\u001b[0;34m.\u001b[0m\u001b[0mjoin\u001b[0m\u001b[0;34m(\u001b[0m\u001b[0mKERAS_MODEL_BUCKET\u001b[0m\u001b[0;34m,\u001b[0m \u001b[0;34m'keras_export'\u001b[0m\u001b[0;34m)\u001b[0m\u001b[0;34m)\u001b[0m  \u001b[0;31m# export the model to your GCS bucket\u001b[0m\u001b[0;34m\u001b[0m\u001b[0;34m\u001b[0m\u001b[0m\n\u001b[0m\u001b[1;32m     15\u001b[0m \u001b[0mexport_path\u001b[0m \u001b[0;34m=\u001b[0m \u001b[0mKERAS_MODEL_BUCKET\u001b[0m \u001b[0;34m+\u001b[0m \u001b[0;34m'/keras_export'\u001b[0m\u001b[0;34m\u001b[0m\u001b[0;34m\u001b[0m\u001b[0m\n",
            "\u001b[0;31mAttributeError\u001b[0m: module 'tensorflow' has no attribute 'contrib'"
          ]
        }
      ]
    },
    {
      "cell_type": "code",
      "metadata": {
        "id": "8jVUIWZwW7K0"
      },
      "source": [
        "# Configure gcloud to use your project\n",
        "!gcloud config set project $GCP_PROJECT"
      ],
      "execution_count": null,
      "outputs": []
    },
    {
      "cell_type": "code",
      "metadata": {
        "id": "tPGC8JhhRAY2"
      },
      "source": [
        "# Create a new model in our project, you only need to run this once\n",
        "!gcloud ai-platform models create keras_wine"
      ],
      "execution_count": null,
      "outputs": []
    },
    {
      "cell_type": "code",
      "metadata": {
        "id": "WaGbopHVIRdB"
      },
      "source": [
        "# Deploy the model to Cloud AI Platform\n",
        "!gcloud beta ai-platform versions create $KERAS_VERSION_NAME --model keras_wine \\\n",
        "--origin=$export_path \\\n",
        "--python-version=3.5 \\\n",
        "--runtime-version=1.14 \\\n",
        "--framework='TENSORFLOW'"
      ],
      "execution_count": null,
      "outputs": []
    },
    {
      "cell_type": "code",
      "metadata": {
        "id": "ypRd-P-ZPfaH"
      },
      "source": [
        "%%writefile predictions.json\n",
        "[7.8, 0.21, 0.49, 1.2, 0.036, 20.0, 99.0, 0.99, 3.05, 0.28, 12.1]"
      ],
      "execution_count": null,
      "outputs": []
    },
    {
      "cell_type": "code",
      "metadata": {
        "id": "othDFHKZcab-"
      },
      "source": [
        "# Test the deployed model on an example from our test set\n",
        "# The correct score for this prediction is 7\n",
        "prediction = !gcloud ai-platform predict --model=keras_wine --json-instances=predictions.json --version=$KERAS_VERSION_NAME\n",
        "print(prediction[1])"
      ],
      "execution_count": null,
      "outputs": []
    },
    {
      "cell_type": "markdown",
      "metadata": {
        "id": "WW5L9_JWmSuY"
      },
      "source": [
        "## Build and train Scikit learn model\n",
        "\n",
        "In this section we'll:\n",
        "* Train a regression model using Scikit Learn\n",
        "* Save the model to a local file using `pickle`"
      ]
    },
    {
      "cell_type": "code",
      "metadata": {
        "id": "SGn5P-VoR2ld"
      },
      "source": [
        "SKLEARN_VERSION_NAME = 'v1'\n",
        "SKLEARN_MODEL_BUCKET = 'gs://sklearn_model_bucket'"
      ],
      "execution_count": null,
      "outputs": []
    },
    {
      "cell_type": "code",
      "metadata": {
        "id": "hD4SE8psB1UM"
      },
      "source": [
        "scikit_model = LinearRegression().fit(train_data.values, train_labels.values)"
      ],
      "execution_count": null,
      "outputs": []
    },
    {
      "cell_type": "code",
      "metadata": {
        "id": "hFGjWhJ9-JKZ"
      },
      "source": [
        "# Export the model to a local file using pickle\n",
        "pickle.dump(scikit_model, open('model.pkl', 'wb'))"
      ],
      "execution_count": null,
      "outputs": []
    },
    {
      "cell_type": "markdown",
      "metadata": {
        "id": "9-eS60E-lTKk"
      },
      "source": [
        "## Deploy Scikit model to CAIP"
      ]
    },
    {
      "cell_type": "markdown",
      "metadata": {
        "id": "ri7u5kbyRnwL"
      },
      "source": [
        "In this section we'll:\n",
        "* Copy our saved model file to Cloud Storage\n",
        "* Run the gcloud command to deploy our model\n",
        "* Generate a prediction on our deployed model"
      ]
    },
    {
      "cell_type": "code",
      "metadata": {
        "id": "VzfU9HaE-p2J"
      },
      "source": [
        "# Copy the saved model to Cloud Storage\n",
        "!gsutil cp ./model.pkl gs://wine_sklearn/model.pkl"
      ],
      "execution_count": null,
      "outputs": []
    },
    {
      "cell_type": "code",
      "metadata": {
        "id": "RKInNmOBRaHO"
      },
      "source": [
        "# Create a new model in our project, you only need to run this once\n",
        "!gcloud ai-platform models create sklearn_wine"
      ],
      "execution_count": null,
      "outputs": []
    },
    {
      "cell_type": "code",
      "metadata": {
        "id": "8pf5BnRo-1wJ"
      },
      "source": [
        "!gcloud beta ai-platform versions create $SKLEARN_VERSION_NAME --model=sklearn_wine \\\n",
        "--origin=$SKLEARN_MODEL_BUCKET \\\n",
        "--runtime-version=1.14 \\\n",
        "--python-version=3.5 \\\n",
        "--framework='SCIKIT_LEARN'"
      ],
      "execution_count": null,
      "outputs": []
    },
    {
      "cell_type": "code",
      "metadata": {
        "id": "zTxEHIDAlYRQ"
      },
      "source": [
        "# Test the model usnig the same example instance from above\n",
        "!gcloud ai-platform predict --model=sklearn_wine --json-instances=predictions.json --version=$SKLEARN_VERSION_NAME"
      ],
      "execution_count": null,
      "outputs": []
    },
    {
      "cell_type": "markdown",
      "metadata": {
        "id": "qGfkfD6PiXia"
      },
      "source": [
        "## Compare tf.keras and Scikit models with the What-if Tool\n",
        "\n",
        "Now we're ready for the What-if Tool! In this section we'll:\n",
        "* Create an array of our test examples with their ground truth values. The What-if Tool works best when we send the actual values for each example input.\n",
        "* Instantiate the What-if Tool using the `set_compare_ai_platform_model` method. This lets us compare 2 models deployed on Cloud AI Platform."
      ]
    },
    {
      "cell_type": "code",
      "metadata": {
        "id": "1qNIii9_SbPj"
      },
      "source": [
        "# Create np array of test examples + their ground truth labels\n",
        "test_examples = np.hstack((test_data[:200].values,test_labels[:200].values.reshape(-1,1)))\n",
        "print(test_examples.shape)"
      ],
      "execution_count": null,
      "outputs": []
    },
    {
      "cell_type": "code",
      "metadata": {
        "id": "vqOFzh8pyG6Z"
      },
      "source": [
        "# Create a What-if Tool visualization, it may take a minute to load\n",
        "# See the cell below this for exploration ideas\n",
        "\n",
        "# We use `set_predict_output_tensor` here becuase our tf.keras model returns a dict with a 'sequential' key\n",
        "\n",
        "config_builder = (WitConfigBuilder(test_examples.tolist(), data.columns.tolist() + ['quality'])\n",
        "  .set_ai_platform_model(GCP_PROJECT, 'keras_wine', KERAS_VERSION_NAME).set_predict_output_tensor('sequential').set_uses_predict_api(True)\n",
        "  .set_target_feature('quality')\n",
        "  .set_model_type('regression')\n",
        "  .set_compare_ai_platform_model(GCP_PROJECT, 'sklearn_wine', SKLEARN_VERSION_NAME))\n",
        "WitWidget(config_builder, height=800)"
      ],
      "execution_count": null,
      "outputs": []
    },
    {
      "cell_type": "markdown",
      "metadata": {
        "id": "zScgqn1dScKS"
      },
      "source": [
        "## What-if Tool Exploration ideas\n",
        "\n",
        "* Look at the scatter plot of \"Inference value scikit_wine\" vs \"Inference value keras_wine\"\n",
        "  * Examples off of the diagonal represent wines for which the two models have large disagreement on the quality score. Click on some of these and explore the features. \n",
        "  * You can also click on individual examples, change some of the feature values for that example, and compare the impact of that change on the model's prediction\n",
        "  * Check out the partial dependence plots to see what features are causes the large skew between the two models.\n",
        "\n",
        "* Go to the Performance tab and see the overall performance of each model. Is one more accurate over the test data than the other?\n",
        "  * In this tab, use the \"Slice by\" dropdown to slice the data into subgroups and see how both models perform across those subgroups. Try slicing by alcohol. Which model has more consistent performance across the slices?"
      ]
    }
  ]
}